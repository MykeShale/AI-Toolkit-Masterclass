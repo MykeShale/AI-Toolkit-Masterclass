{
  "cells": [
    {
      "cell_type": "markdown",
      "id": "3be19386",
      "metadata": {
        "id": "3be19386"
      },
      "source": [
        "\n",
        "# 🧭 Part 3: Ethics & Optimization\n",
        "\n",
        "This notebook addresses two key tasks:\n",
        "\n",
        "1. Analyze potential bias in the Amazon Reviews and MNIST models.\n",
        "2. Fix a buggy TensorFlow script with dimension mismatch and incorrect loss.\n",
        "\n",
        "🧠 Ethical AI development is critical to ensure fairness, transparency, and trust.\n"
      ]
    },
    {
      "cell_type": "markdown",
      "id": "5e8d6931",
      "metadata": {
        "id": "5e8d6931"
      },
      "source": [
        "## 📌 Step 1: Bias Analysis"
      ]
    },
    {
      "cell_type": "code",
      "execution_count": 1,
      "id": "3d56d887",
      "metadata": {
        "colab": {
          "base_uri": "https://localhost:8080/"
        },
        "id": "3d56d887",
        "outputId": "0d0cdaf1-fc07-40c5-e68a-9d8f74508c18"
      },
      "outputs": [
        {
          "output_type": "stream",
          "name": "stdout",
          "text": [
            "Amazon Reviews (Text Sentiment):\n",
            "- Rule-based sentiment may fail with sarcasm or cultural nuance.\n",
            "- Reviews may overrepresent either extremely positive or negative opinions.\n",
            "- Language models may favor certain brand names based on training exposure.\n",
            "\n",
            "MNIST Dataset:\n",
            "- MNIST is balanced by digit but lacks handwriting diversity.\n",
            "- No representation of various scripts, stylization, or writing impairments.\n",
            "\n",
            "✅ Recommendation:\n",
            "- Use TensorFlow Fairness Indicators or re-sample reviews by verified buyers.\n",
            "- Evaluate performance across different sub-groups of inputs.\n"
          ]
        }
      ],
      "source": [
        "\n",
        "# Reflection on potential bias\n",
        "print(\"Amazon Reviews (Text Sentiment):\")\n",
        "print(\"- Rule-based sentiment may fail with sarcasm or cultural nuance.\")\n",
        "print(\"- Reviews may overrepresent either extremely positive or negative opinions.\")\n",
        "print(\"- Language models may favor certain brand names based on training exposure.\")\n",
        "\n",
        "print(\"\\nMNIST Dataset:\")\n",
        "print(\"- MNIST is balanced by digit but lacks handwriting diversity.\")\n",
        "print(\"- No representation of various scripts, stylization, or writing impairments.\")\n",
        "\n",
        "print(\"\\n✅ Recommendation:\")\n",
        "print(\"- Use TensorFlow Fairness Indicators or re-sample reviews by verified buyers.\")\n",
        "print(\"- Evaluate performance across different sub-groups of inputs.\")\n"
      ]
    },
    {
      "cell_type": "markdown",
      "id": "22200860",
      "metadata": {
        "id": "22200860"
      },
      "source": [
        "## 🛠️ Step 2: Fix Buggy TensorFlow Code"
      ]
    },
    {
      "cell_type": "code",
      "execution_count": 2,
      "id": "8ac337ab",
      "metadata": {
        "colab": {
          "base_uri": "https://localhost:8080/"
        },
        "id": "8ac337ab",
        "outputId": "c947274c-17aa-4c63-860b-2e94fe0988f2"
      },
      "outputs": [
        {
          "output_type": "stream",
          "name": "stdout",
          "text": [
            "Downloading data from https://storage.googleapis.com/tensorflow/tf-keras-datasets/mnist.npz\n",
            "\u001b[1m11490434/11490434\u001b[0m \u001b[32m━━━━━━━━━━━━━━━━━━━━\u001b[0m\u001b[37m\u001b[0m \u001b[1m0s\u001b[0m 0us/step\n"
          ]
        },
        {
          "output_type": "stream",
          "name": "stderr",
          "text": [
            "/usr/local/lib/python3.11/dist-packages/keras/src/layers/reshaping/flatten.py:37: UserWarning: Do not pass an `input_shape`/`input_dim` argument to a layer. When using Sequential models, prefer using an `Input(shape)` object as the first layer in the model instead.\n",
            "  super().__init__(**kwargs)\n"
          ]
        },
        {
          "output_type": "stream",
          "name": "stdout",
          "text": [
            "Epoch 1/3\n",
            "\u001b[1m844/844\u001b[0m \u001b[32m━━━━━━━━━━━━━━━━━━━━\u001b[0m\u001b[37m\u001b[0m \u001b[1m5s\u001b[0m 5ms/step - accuracy: 0.8517 - loss: 0.5409 - val_accuracy: 0.9633 - val_loss: 0.1430\n",
            "Epoch 2/3\n",
            "\u001b[1m844/844\u001b[0m \u001b[32m━━━━━━━━━━━━━━━━━━━━\u001b[0m\u001b[37m\u001b[0m \u001b[1m7s\u001b[0m 7ms/step - accuracy: 0.9556 - loss: 0.1514 - val_accuracy: 0.9672 - val_loss: 0.1165\n",
            "Epoch 3/3\n",
            "\u001b[1m844/844\u001b[0m \u001b[32m━━━━━━━━━━━━━━━━━━━━\u001b[0m\u001b[37m\u001b[0m \u001b[1m8s\u001b[0m 4ms/step - accuracy: 0.9695 - loss: 0.1049 - val_accuracy: 0.9753 - val_loss: 0.0883\n",
            "\u001b[1m313/313\u001b[0m \u001b[32m━━━━━━━━━━━━━━━━━━━━\u001b[0m\u001b[37m\u001b[0m \u001b[1m1s\u001b[0m 3ms/step - accuracy: 0.9655 - loss: 0.1105\n",
            "✅ Fixed Model Test Accuracy: 0.9706\n"
          ]
        }
      ],
      "source": [
        "\n",
        "# 🚫 Original Buggy Code (for reference)\n",
        "# model.compile(loss='mse', optimizer='adam')  # Wrong loss\n",
        "# model.fit(X, y, batch_size=32, epochs=5)     # Dimension mismatch\n",
        "\n",
        "# ✅ Corrected Example\n",
        "import tensorflow as tf\n",
        "from tensorflow.keras.models import Sequential\n",
        "from tensorflow.keras.layers import Dense, Flatten\n",
        "from tensorflow.keras.utils import to_categorical\n",
        "from tensorflow.keras.datasets import mnist\n",
        "\n",
        "# Load and preprocess\n",
        "(x_train, y_train), (x_test, y_test) = mnist.load_data()\n",
        "x_train = x_train / 255.0\n",
        "x_test = x_test / 255.0\n",
        "\n",
        "y_train = to_categorical(y_train, 10)\n",
        "y_test = to_categorical(y_test, 10)\n",
        "\n",
        "# Define model\n",
        "model = Sequential([\n",
        "    Flatten(input_shape=(28, 28)),\n",
        "    Dense(128, activation='relu'),\n",
        "    Dense(10, activation='softmax')\n",
        "])\n",
        "\n",
        "# Correct loss for classification\n",
        "model.compile(optimizer='adam', loss='categorical_crossentropy', metrics=['accuracy'])\n",
        "\n",
        "# Train\n",
        "model.fit(x_train, y_train, epochs=3, batch_size=64, validation_split=0.1)\n",
        "\n",
        "# Evaluate\n",
        "test_loss, test_acc = model.evaluate(x_test, y_test)\n",
        "print(f\"✅ Fixed Model Test Accuracy: {test_acc:.4f}\")\n"
      ]
    },
    {
      "cell_type": "code",
      "metadata": {
        "colab": {
          "base_uri": "https://localhost:8080/"
        },
        "id": "ab27f849",
        "outputId": "94e873bf-4b78-49bd-bec5-9dcd20767ff9"
      },
      "source": [
        "print(f\"Test Accuracy: {test_acc}\")"
      ],
      "id": "ab27f849",
      "execution_count": 3,
      "outputs": [
        {
          "output_type": "stream",
          "name": "stdout",
          "text": [
            "Test Accuracy: 0.9706000089645386\n"
          ]
        }
      ]
    },
    {
      "cell_type": "code",
      "metadata": {
        "colab": {
          "base_uri": "https://localhost:8080/",
          "height": 511
        },
        "id": "02f00775",
        "outputId": "620e1aa5-6660-4ab2-ed83-347a92434bce"
      },
      "source": [
        "import matplotlib.pyplot as plt\n",
        "import numpy as np\n",
        "\n",
        "# Get a few test images and predictions\n",
        "num_images = 10\n",
        "test_images = x_test[:num_images]\n",
        "test_labels = y_test[:num_images]\n",
        "predictions = model.predict(test_images)\n",
        "\n",
        "# Display the images and predictions\n",
        "plt.figure(figsize=(10, 5))\n",
        "for i in range(num_images):\n",
        "    plt.subplot(2, 5, i + 1)\n",
        "    plt.imshow(test_images[i].reshape(28, 28), cmap='gray')\n",
        "    predicted_label = np.argmax(predictions[i])\n",
        "    true_label = np.argmax(test_labels[i])\n",
        "    plt.title(f\"Pred: {predicted_label}\\nTrue: {true_label}\")\n",
        "    plt.axis('off')\n",
        "\n",
        "plt.tight_layout()\n",
        "plt.show()"
      ],
      "id": "02f00775",
      "execution_count": 4,
      "outputs": [
        {
          "output_type": "stream",
          "name": "stdout",
          "text": [
            "\u001b[1m1/1\u001b[0m \u001b[32m━━━━━━━━━━━━━━━━━━━━\u001b[0m\u001b[37m\u001b[0m \u001b[1m0s\u001b[0m 103ms/step\n"
          ]
        },
        {
          "output_type": "display_data",
          "data": {
            "text/plain": [
              "<Figure size 1000x500 with 10 Axes>"
            ],
            "image/png": "[encoded data removed]"
          },
          "metadata": {}
        }
      ]
    }
  ],
  "metadata": {
    "colab": {
      "provenance": []
    },
    "language_info": {
      "name": "python"
    },
    "kernelspec": {
      "name": "python3",
      "display_name": "Python 3"
    }
  },
  "nbformat": 4,
  "nbformat_minor": 5
}