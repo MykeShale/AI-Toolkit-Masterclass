{
 "cells": [
  {
   "cell_type": "markdown",
   "id": "648e47bd",
   "metadata": {},
   "source": [
    "\n",
    "# 🌸 Iris Species Classification using Scikit-learn\n",
    "\n",
    "This notebook demonstrates how to use **Scikit-learn** to train a Decision Tree Classifier on the famous **Iris dataset**.  \n",
    "We’ll go through the steps of:\n",
    "- Loading and exploring the dataset\n",
    "- Preprocessing and splitting the data\n",
    "- Training a Decision Tree model\n",
    "- Evaluating it using accuracy, precision, and recall\n"
   ]
  },
  {
   "cell_type": "code",
   "execution_count": null,
   "id": "868c3986",
   "metadata": {},
   "outputs": [],
   "source": [
    "\n",
    "# 📌 STEP 1: Import necessary libraries\n",
    "import pandas as pd\n",
    "from sklearn.datasets import load_iris\n",
    "from sklearn.model_selection import train_test_split\n",
    "from sklearn.tree import DecisionTreeClassifier\n",
    "from sklearn.metrics import accuracy_score, precision_score, recall_score, classification_report\n"
   ]
  },
  {
   "cell_type": "markdown",
   "id": "24d0230d",
   "metadata": {},
   "source": [
    "\n",
    "## 📥 Step 2: Load and Explore the Dataset\n",
    "We'll use the built-in Iris dataset from Scikit-learn.\n"
   ]
  },
  {
   "cell_type": "code",
   "execution_count": null,
   "id": "2c259323",
   "metadata": {},
   "outputs": [],
   "source": [
    "\n",
    "# Load Iris dataset\n",
    "iris = load_iris()\n",
    "X = pd.DataFrame(iris.data, columns=iris.feature_names)\n",
    "y = pd.Series(iris.target, name='species')\n",
    "\n",
    "# Show sample data\n",
    "print(\"Sample data:\")\n",
    "print(X.head())\n",
    "print(\"\\nTarget classes:\", iris.target_names)\n"
   ]
  },
  {
   "cell_type": "markdown",
   "id": "8c8b7c3f",
   "metadata": {},
   "source": [
    "\n",
    "## ✂️ Step 3: Split the Dataset  \n",
    "Split the data into 80% training and 20% testing sets.\n"
   ]
  },
  {
   "cell_type": "code",
   "execution_count": null,
   "id": "f2d1617b",
   "metadata": {},
   "outputs": [],
   "source": [
    "\n",
    "# Split into training and testing sets\n",
    "X_train, X_test, y_train, y_test = train_test_split(\n",
    "    X, y, test_size=0.2, random_state=42)\n"
   ]
  },
  {
   "cell_type": "markdown",
   "id": "404a93f0",
   "metadata": {},
   "source": [
    "\n",
    "## 🤖 Step 4: Train the Decision Tree Classifier\n",
    "We’ll train a simple Decision Tree model on the training data.\n"
   ]
  },
  {
   "cell_type": "code",
   "execution_count": null,
   "id": "28821e83",
   "metadata": {},
   "outputs": [],
   "source": [
    "\n",
    "# Initialize and train the model\n",
    "model = DecisionTreeClassifier()\n",
    "model.fit(X_train, y_train)\n"
   ]
  },
  {
   "cell_type": "markdown",
   "id": "e0caaa33",
   "metadata": {},
   "source": [
    "\n",
    "## 📊 Step 5: Make Predictions\n",
    "Let's use the trained model to make predictions on the test set.\n"
   ]
  },
  {
   "cell_type": "code",
   "execution_count": null,
   "id": "d1e72486",
   "metadata": {},
   "outputs": [],
   "source": [
    "\n",
    "# Predict on test set\n",
    "y_pred = model.predict(X_test)\n"
   ]
  },
  {
   "cell_type": "markdown",
   "id": "bd083d3d",
   "metadata": {},
   "source": [
    "\n",
    "## ✅ Step 6: Evaluate the Model\n",
    "We’ll evaluate the model using **accuracy**, **precision**, and **recall**.\n"
   ]
  },
  {
   "cell_type": "code",
   "execution_count": null,
   "id": "f69a2d05",
   "metadata": {},
   "outputs": [],
   "source": [
    "\n",
    "# Evaluation metrics\n",
    "accuracy = accuracy_score(y_test, y_pred)\n",
    "precision = precision_score(y_test, y_pred, average='macro')  # For multi-class\n",
    "recall = recall_score(y_test, y_pred, average='macro')\n",
    "\n",
    "# Print results\n",
    "print(\"✅ Evaluation Metrics:\")\n",
    "print(f\"Accuracy: {accuracy:.2f}\")\n",
    "print(f\"Precision: {precision:.2f}\")\n",
    "print(f\"Recall: {recall:.2f}\")\n",
    "print(\"\\nDetailed Classification Report:\")\n",
    "print(classification_report(y_test, y_pred, target_names=iris.target_names))\n"
   ]
  }
 ],
 "metadata": {},
 "nbformat": 4,
 "nbformat_minor": 5
}
